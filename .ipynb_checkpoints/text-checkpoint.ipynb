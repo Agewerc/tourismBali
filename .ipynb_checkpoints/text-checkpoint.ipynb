{
 "cells": [
  {
   "cell_type": "code",
   "execution_count": 812,
   "metadata": {},
   "outputs": [],
   "source": [
    "import json\n",
    "import os\n",
    "import pandas as pd\n",
    "from collections import Counter"
   ]
  },
  {
   "cell_type": "code",
   "execution_count": 813,
   "metadata": {},
   "outputs": [],
   "source": [
    "with open('data_bali.json') as f:\n",
    "  flow_data = json.load(f)"
   ]
  },
  {
   "cell_type": "code",
   "execution_count": 814,
   "metadata": {},
   "outputs": [],
   "source": [
    "df_location = pd.read_csv('owner_origin_country.csv', encoding = 'latin-1')\n",
    "df_dict = pd.read_csv('locations2.csv', encoding = 'latin-1')"
   ]
  },
  {
   "cell_type": "code",
   "execution_count": 815,
   "metadata": {},
   "outputs": [],
   "source": [
    "country_dict = pd.Series(df_dict.country.values,index=df_dict.county).to_dict()"
   ]
  },
  {
   "cell_type": "code",
   "execution_count": 816,
   "metadata": {},
   "outputs": [],
   "source": [
    "owner_location = []\n",
    "county = []\n",
    "label = []"
   ]
  },
  {
   "cell_type": "code",
   "execution_count": 817,
   "metadata": {},
   "outputs": [],
   "source": [
    "for key in flow_data.keys():\n",
    "    try:\n",
    "        owner_location.append(country_dict[flow_data[key]['owner_location']])\n",
    "        county.append(flow_data[key]['county'])\n",
    "        label.append(flow_data[key]['label'])\n",
    "    except:\n",
    "        pass"
   ]
  },
  {
   "cell_type": "code",
   "execution_count": 818,
   "metadata": {},
   "outputs": [],
   "source": [
    "locations = set(owner_location)"
   ]
  },
  {
   "cell_type": "code",
   "execution_count": 819,
   "metadata": {},
   "outputs": [],
   "source": [
    "new_list = []\n",
    "new_dict = {}"
   ]
  },
  {
   "cell_type": "code",
   "execution_count": 820,
   "metadata": {},
   "outputs": [],
   "source": [
    "for i in range(len(owner_location)):\n",
    "    \n",
    "    new_list.append([(owner_location[i]), county[i], label[i]])"
   ]
  },
  {
   "cell_type": "code",
   "execution_count": 821,
   "metadata": {},
   "outputs": [],
   "source": [
    "new_dict = {}"
   ]
  },
  {
   "cell_type": "code",
   "execution_count": 822,
   "metadata": {},
   "outputs": [],
   "source": [
    "for location in locations:\n",
    "    support_list = []\n",
    "    for element in new_list:\n",
    "        if location == element[0]:\n",
    "            support_list.append(element)\n",
    "\n",
    "    county_list = []\n",
    "    label_list = []\n",
    "    \n",
    "    for i in support_list:\n",
    "        county_list.append(i[1])\n",
    "        label_list.append(i[2])\n",
    "        \n",
    "        new_dict[i[0]] = [county_list, label_list]"
   ]
  },
  {
   "cell_type": "code",
   "execution_count": 823,
   "metadata": {},
   "outputs": [],
   "source": [
    "for key in new_dict.keys():\n",
    "    \n",
    "    new_dict[key][1] = [item for sublist in new_dict[key][1] for item in sublist]"
   ]
  },
  {
   "cell_type": "code",
   "execution_count": 824,
   "metadata": {},
   "outputs": [],
   "source": [
    "for key in new_dict.keys():\n",
    "    \n",
    "    new_dict[key][0] = Counter(new_dict[key][0]).most_common(1)[0][0]\n",
    "    item = list(Counter(new_dict[key][1]).most_common(10))[0:5]\n",
    "    new_dict[key][1] = [item[0][0], item[1][0], item[2][0], item[3][0], item[4][0]]"
   ]
  },
  {
   "cell_type": "code",
   "execution_count": 825,
   "metadata": {},
   "outputs": [],
   "source": [
    "final_list = []"
   ]
  },
  {
   "cell_type": "code",
   "execution_count": 826,
   "metadata": {},
   "outputs": [],
   "source": [
    "location_count = dict(Counter(owner_location))"
   ]
  },
  {
   "cell_type": "code",
   "execution_count": 827,
   "metadata": {},
   "outputs": [],
   "source": [
    "for key in new_dict:\n",
    "    \n",
    "    final_list.append([key, new_dict[key][0], \n",
    "                       new_dict[key][1][0], new_dict[key][1][1], new_dict[key][1][2], \n",
    "                       new_dict[key][1][3], new_dict[key][1][4], location_count[key]])\n",
    "    "
   ]
  },
  {
   "cell_type": "code",
   "execution_count": 828,
   "metadata": {},
   "outputs": [],
   "source": [
    "pd.DataFrame(final_list).to_csv('country_words.csv')"
   ]
  }
 ],
 "metadata": {
  "kernelspec": {
   "display_name": "Python 3",
   "language": "python",
   "name": "python3"
  },
  "language_info": {
   "codemirror_mode": {
    "name": "ipython",
    "version": 3
   },
   "file_extension": ".py",
   "mimetype": "text/x-python",
   "name": "python",
   "nbconvert_exporter": "python",
   "pygments_lexer": "ipython3",
   "version": "3.7.7"
  }
 },
 "nbformat": 4,
 "nbformat_minor": 4
}
